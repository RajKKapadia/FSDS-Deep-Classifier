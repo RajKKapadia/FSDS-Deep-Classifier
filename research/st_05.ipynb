{
 "cells": [
  {
   "cell_type": "code",
   "execution_count": 1,
   "metadata": {},
   "outputs": [],
   "source": [
    "import os\n",
    "os.chdir(\"../\")"
   ]
  },
  {
   "cell_type": "code",
   "execution_count": 2,
   "metadata": {},
   "outputs": [],
   "source": [
    "from dataclasses import dataclass\n",
    "from pathlib import Path\n",
    "\n",
    "@dataclass(frozen=True)\n",
    "class EvaluationConfig:\n",
    "    trained_mdeol_path: Path\n",
    "    training_data: Path\n",
    "    params_batch_size: int\n",
    "    params_image_size: list"
   ]
  },
  {
   "cell_type": "code",
   "execution_count": 3,
   "metadata": {},
   "outputs": [],
   "source": [
    "from deepClassifier.constants import *\n",
    "from deepClassifier.utils import read_yaml, create_directories, save_json"
   ]
  },
  {
   "cell_type": "code",
   "execution_count": 4,
   "metadata": {},
   "outputs": [],
   "source": [
    "class ConfigurationManager:\n",
    "    def __init__(\n",
    "        self, \n",
    "        config_filepath = CONFIG_FILE_PATH,\n",
    "        params_filepath = PARAMS_FILE_PATH):\n",
    "        self.config = read_yaml(config_filepath)\n",
    "        self.params = read_yaml(params_filepath)\n",
    "        create_directories([self.config.artifacts_root])\n",
    "\n",
    "    def get_evaluation_config(self) -> EvaluationConfig:\n",
    "        training_data = os.path.join(self.config.data_ingestion.unzip_dir, 'PetImages')\n",
    "        evaluation_config = EvaluationConfig(\n",
    "            trained_mdeol_path=self.config.training.trained_model_path,\n",
    "            training_data=training_data,\n",
    "            params_batch_size=self.params.BATCH_SIZE,\n",
    "            params_image_size=self.params.IMAGE_SIZE\n",
    "        )\n",
    "\n",
    "        return evaluation_config"
   ]
  },
  {
   "cell_type": "code",
   "execution_count": 12,
   "metadata": {},
   "outputs": [],
   "source": [
    "import tensorflow as tf\n",
    "\n",
    "class Evaluation:\n",
    "    def __init__(self, config: EvaluationConfig):\n",
    "        self.config = config\n",
    "\n",
    "    def load_model(self):\n",
    "        self.model = tf.keras.models.load_model(\n",
    "            self.config.trained_mdeol_path\n",
    "        )\n",
    "\n",
    "    def _evaluation_generator(self):\n",
    "\n",
    "        datagenerator_kwargs = dict(\n",
    "            rescale = 1./255,\n",
    "            validation_split=0.20\n",
    "        )\n",
    "\n",
    "        dataflow_kwargs = dict(\n",
    "            target_size=self.config.params_image_size[:-1],\n",
    "            batch_size=self.config.params_batch_size,\n",
    "            interpolation='bilinear'\n",
    "        )\n",
    "\n",
    "        evaluation_datagenerator = tf.keras.preprocessing.image.ImageDataGenerator(\n",
    "            **datagenerator_kwargs\n",
    "        )\n",
    "\n",
    "        self.evaluation_generator = evaluation_datagenerator.flow_from_directory(\n",
    "            directory=self.config.training_data,\n",
    "            subset='validation',\n",
    "            shuffle=False,\n",
    "            **dataflow_kwargs\n",
    "        )\n",
    "\n",
    "    def evaluate(self):\n",
    "        self.load_model()\n",
    "        self._evaluation_generator()\n",
    "        self.score = self.model.evaluate(self.evaluation_generator)\n",
    "        save_json(\n",
    "            path=Path('score.json'),\n",
    "            data={\n",
    "                'loss': self.score[0],\n",
    "                'accuracy': self.score[1]\n",
    "            }\n",
    "        )"
   ]
  },
  {
   "cell_type": "code",
   "execution_count": 13,
   "metadata": {},
   "outputs": [
    {
     "name": "stdout",
     "output_type": "stream",
     "text": [
      "[2022-09-25 15:29:20,084: INFO: common]: yaml file: configs\\config.yaml loaded successfully\n",
      "[2022-09-25 15:29:20,087: INFO: common]: yaml file: params.yaml loaded successfully\n",
      "[2022-09-25 15:29:20,088: INFO: common]: created directory at: artifacts\n",
      "Found 4998 images belonging to 2 classes.\n",
      "313/313 [==============================] - 25s 64ms/step - loss: 1.3851 - accuracy: 0.8737\n",
      "[2022-09-25 15:29:46,264: INFO: common]: json file saved at: score.json\n"
     ]
    }
   ],
   "source": [
    "try:\n",
    "    config = ConfigurationManager()\n",
    "    evaluation_config = config.get_evaluation_config()\n",
    "    evaluation = Evaluation(evaluation_config)\n",
    "    evaluation.load_model()\n",
    "    evaluation.evaluate()\n",
    "except Exception as e:\n",
    "    raise e"
   ]
  },
  {
   "cell_type": "code",
   "execution_count": null,
   "metadata": {},
   "outputs": [],
   "source": []
  }
 ],
 "metadata": {
  "kernelspec": {
   "display_name": "Python 3.8.13 ('envdc38')",
   "language": "python",
   "name": "python3"
  },
  "language_info": {
   "codemirror_mode": {
    "name": "ipython",
    "version": 3
   },
   "file_extension": ".py",
   "mimetype": "text/x-python",
   "name": "python",
   "nbconvert_exporter": "python",
   "pygments_lexer": "ipython3",
   "version": "3.8.13"
  },
  "orig_nbformat": 4,
  "vscode": {
   "interpreter": {
    "hash": "3fb8419b29b83f22c0be34128ca0f0eee00f651ae9120a73f992fd3c5d4d72d6"
   }
  }
 },
 "nbformat": 4,
 "nbformat_minor": 2
}
